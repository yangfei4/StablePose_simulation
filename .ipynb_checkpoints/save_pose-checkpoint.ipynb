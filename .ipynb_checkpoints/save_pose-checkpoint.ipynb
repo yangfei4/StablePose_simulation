{
 "cells": [
  {
   "cell_type": "markdown",
   "metadata": {},
   "source": [
    "# Stable Pose Experiment Result Processing\n",
    "After running the \"Stable Pose\" Experiments, we have got three files which preserve rotation matrice samples saved as numpy array format. They are:\n",
    "\n",
    "```\n",
    ".\n",
    "└── pose_exp\n",
    "    ├── topshell.npz                                   \n",
    "    ├── mainshell.npz            \n",
    "    └── insert_mold.npz\n",
    "```\n",
    "\n",
    "This notebook is aiming to compute the Euler angles of all pose candidates based on these rotation matrice samples."
   ]
  },
  {
   "cell_type": "code",
   "execution_count": 29,
   "metadata": {},
   "outputs": [],
   "source": [
    "import blenderproc as bproc\n",
    "import argparse\n",
    "import numpy as np\n",
    "import bpy\n",
    "import time\n",
    "import math\n",
    "from pathlib import Path"
   ]
  },
  {
   "cell_type": "markdown",
   "metadata": {},
   "source": [
    "## 1. Load datas\n",
    "* Rotation matrices shape-> [smaple_numbers x 3 x 3]"
   ]
  },
  {
   "cell_type": "code",
   "execution_count": 30,
   "metadata": {},
   "outputs": [],
   "source": [
    "classes = ['mainshell', 'topshell', 'insert_mold']\n",
    "\n",
    "R = []\n",
    "builds = [\"legacy\", \"UT1113-11901-7H\", \"UT12113-120BK-7H\"]\n",
    "\n",
    "for catogory in classes:\n",
    "    loaded = np.load(f\"./pose_exp/{catogory}.npz\")\n",
    "    R_temp = loaded['Rotation']\n",
    "    R.append(R_temp)"
   ]
  },
  {
   "cell_type": "markdown",
   "metadata": {},
   "source": [
    "## 2. Rotation to euler angles\n",
    "Ref: https://learnopencv.com/rotation-matrix-to-euler-angles/\n",
    "\n",
    "Same algorithm as MATLAB’s `rotm2euler()`"
   ]
  },
  {
   "cell_type": "code",
   "execution_count": 31,
   "metadata": {},
   "outputs": [],
   "source": [
    "\n",
    "def isRotationMatrix(R):\n",
    "    Rt = np.transpose(R)\n",
    "    shouldBeIdentity = np.dot(Rt, R)\n",
    "    I = np.identity(3, dtype = R.dtype)\n",
    "    n = np.linalg.norm(I - shouldBeIdentity)\n",
    "    \n",
    "    return n<1e-6\n",
    "\n",
    "def R2Euler(R):\n",
    "    assert(isRotationMatrix(R))\n",
    "    \n",
    "    sy = math.sqrt(R[0,0]*R[0,0] + R[1,0]*R[1,0])\n",
    "    singular = sy < 1e-6\n",
    "    \n",
    "    if not singular:\n",
    "        pitch_x = math.atan2(R[2,1], R[2,2])\n",
    "        roll_y  = math.atan2(-R[2,0], sy)\n",
    "        yaw_z   = math.atan2(R[1,0], R[0,0])\n",
    "    else:\n",
    "        pitch_x = math.atan2(-R[1,2], R[1,1])\n",
    "        roll_y = math.atan2(-R[2,0], sy)\n",
    "        yaw_z = 0\n",
    "    \n",
    "    pitch_x = round(math.degrees(pitch_x) ,0)\n",
    "    roll_y =round(math.degrees(roll_y) ,0)\n",
    "    yaw_z = round(math.degrees(yaw_z) ,1) \n",
    "\n",
    "    if abs(pitch_x)==0:\n",
    "        pitch_x = abs(pitch_x)\n",
    "    roll_y = abs(roll_y)\n",
    "\n",
    "    if abs(pitch_x)==180 and abs(roll_y)==0:\n",
    "        pitch_x = abs(pitch_x)\n",
    "\n",
    "    return np.array([pitch_x, roll_y, yaw_z])\n",
    "\n",
    "np.set_printoptions(suppress=True)\n",
    "\n"
   ]
  },
  {
   "cell_type": "markdown",
   "metadata": {},
   "source": [
    "## 3. Count all pose candidates"
   ]
  },
  {
   "cell_type": "code",
   "execution_count": 37,
   "metadata": {},
   "outputs": [
    {
     "name": "stdout",
     "output_type": "stream",
     "text": [
      "\n",
      " mainshell [Pithc, Roll] angles candidates\n",
      "#############################################\n",
      "[180.   0.] \t num = 3126\n",
      "[-12.   0.] \t num = 1627\n",
      "[-90.   0.] \t num = 164\n",
      "[90.  0.] \t num = 76\n",
      "Roll != 0 \t num = 6\n",
      "[89.  0.] \t num = 1\n",
      "Total Smaples \t num =  5000\n",
      "\n",
      " topshell [Pithc, Roll] angles candidates\n",
      "#############################################\n",
      "[180.   0.] \t num = 4003\n",
      "[-90.   0.] \t num = 24\n",
      "[0. 0.] \t num = 935\n",
      "[90.  0.] \t num = 29\n",
      "Roll != 0 \t num = 9\n",
      "Total Smaples \t num =  5000\n",
      "\n",
      " insert_mold [Pithc, Roll] angles candidates\n",
      "#############################################\n",
      "[180.   0.] \t num = 2958\n",
      "[-25.   0.] \t num = 1956\n",
      "[31.  0.] \t num = 18\n",
      "[90.  0.] \t num = 16\n",
      "Roll != 0 \t num = 38\n",
      "[-178.    0.] \t num = 3\n",
      "[145.   0.] \t num = 1\n",
      "[-177.    0.] \t num = 5\n",
      "[-24.   0.] \t num = 1\n",
      "[-176.    0.] \t num = 4\n",
      "Total Smaples \t num =  5000\n"
     ]
    }
   ],
   "source": [
    "Euler_set = []\n",
    "# From rotation to Euler\n",
    "for Rot in R:\n",
    "    poses = [] \n",
    "    for pose in Rot:\n",
    "        poses.append(R2Euler(pose))\n",
    "    Euler_set.append(poses)\n",
    "\n",
    "# Count each candidate\n",
    "Euler_dics = []\n",
    "for Eulers in Euler_set:\n",
    "    temp_dic = {}\n",
    "    for Euler in Eulers:\n",
    "        Euler_str = str(Euler[:2])\n",
    "        if Euler[1] != 0.:\n",
    "            # Due to fact that all parts are symmetric,\n",
    "            # The Roll angle of stable poses should be always 0.\n",
    "            temp_dic[\"Roll != 0\"] = temp_dic.get(\"Roll != 0\", 0) + 1\n",
    "        elif 179<= abs(Euler[0]) and abs(Euler[0]) <= 179 and Euler[1]==0:\n",
    "            temp_dic[\"[180.   0.]\"] = temp_dic.get(\"[180.   0.]\", 0) + 1\n",
    "        else:\n",
    "            temp_dic[Euler_str] = temp_dic.get(Euler_str, 0) + 1\n",
    "    Euler_dics.append(temp_dic)\n",
    "\n",
    "\n",
    "for i in range(len(Euler_dics)):\n",
    "    # print('#'*35)\n",
    "    print(f'\\n {classes[i]} [Pithc, Roll] angles candidates')\n",
    "    print('#'*45)\n",
    "    samples_num = 0\n",
    "    for pose,num in Euler_dics[i].items():\n",
    "        samples_num += num\n",
    "        print(pose, '\\t num =', num)\n",
    "    print(f\"Total Smaples \\t num =  {samples_num}\")"
   ]
  }
 ],
 "metadata": {
  "kernelspec": {
   "display_name": "Python 3 (ipykernel)",
   "language": "python",
   "name": "python3"
  },
  "language_info": {
   "codemirror_mode": {
    "name": "ipython",
    "version": 3
   },
   "file_extension": ".py",
   "mimetype": "text/x-python",
   "name": "python",
   "nbconvert_exporter": "python",
   "pygments_lexer": "ipython3",
   "version": "3.10.0"
  },
  "vscode": {
   "interpreter": {
    "hash": "b2f8e464c7128081c983d98000685066e823f2e6fe63e5b6b2fbeb31fc313ef7"
   }
  }
 },
 "nbformat": 4,
 "nbformat_minor": 2
}
