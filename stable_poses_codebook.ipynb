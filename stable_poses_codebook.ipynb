{
 "cells": [
  {
   "cell_type": "code",
   "execution_count": 1,
   "metadata": {},
   "outputs": [
    {
     "name": "stderr",
     "output_type": "stream",
     "text": [
      "/home/yangfei/anaconda3/envs/d2/lib/python3.8/site-packages/tqdm/auto.py:22: TqdmWarning: IProgress not found. Please update jupyter and ipywidgets. See https://ipywidgets.readthedocs.io/en/stable/user_install.html\n",
      "  from .autonotebook import tqdm as notebook_tqdm\n"
     ]
    }
   ],
   "source": [
    "import numpy as np\n",
    "import torch"
   ]
  },
  {
   "cell_type": "code",
   "execution_count": 23,
   "metadata": {},
   "outputs": [
    {
     "name": "stdout",
     "output_type": "stream",
     "text": [
      "[[ 2.11488366e-01  8.92689824e-01  3.97966832e-01]\n",
      " [ 9.77380514e-01 -1.93065494e-01 -8.63313451e-02]\n",
      " [-2.33450482e-04  4.07223076e-01 -9.13328707e-01]]\n",
      "[0.         0.         0.         0.76122968 0.61416099 0.130622\n",
      " 0.16209116]\n",
      "150\n"
     ]
    }
   ],
   "source": [
    "Rotations = np.load('./pose_exp/insert_mold_R.npz')\n",
    "print(Rotations['Rotation'][4])\n",
    "Quaternions = np.load('./pose_exp/insert_mold_Q.npz')\n",
    "print(Quaternions['Quaternions'][4])\n",
    "print(len(Quaternions['Quaternions']))"
   ]
  },
  {
   "cell_type": "code",
   "execution_count": null,
   "metadata": {},
   "outputs": [],
   "source": []
  }
 ],
 "metadata": {
  "kernelspec": {
   "display_name": "blender_proc",
   "language": "python",
   "name": "python3"
  },
  "language_info": {
   "codemirror_mode": {
    "name": "ipython",
    "version": 3
   },
   "file_extension": ".py",
   "mimetype": "text/x-python",
   "name": "python",
   "nbconvert_exporter": "python",
   "pygments_lexer": "ipython3",
   "version": "3.8.15"
  },
  "orig_nbformat": 4
 },
 "nbformat": 4,
 "nbformat_minor": 2
}
